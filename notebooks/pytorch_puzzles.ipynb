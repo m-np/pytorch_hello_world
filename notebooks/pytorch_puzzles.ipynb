{
 "cells": [
  {
   "cell_type": "markdown",
   "id": "015a9d56-5598-4c15-bc80-ea442d7fa829",
   "metadata": {},
   "source": [
    "# Resources\n",
    "\n",
    "We are using the [this](https://github.com/srush/Tensor-Puzzles/tree/main) to solve pytorch problems"
   ]
  },
  {
   "cell_type": "code",
   "execution_count": 1,
   "id": "4ed5ebf5-6f7c-4571-bae7-d94af8dfc96b",
   "metadata": {},
   "outputs": [
    {
     "data": {
      "text/plain": [
       "<function torch._VariableFunctionsClass.tensor>"
      ]
     },
     "execution_count": 1,
     "metadata": {},
     "output_type": "execute_result"
    }
   ],
   "source": [
    "import torch\n",
    "import numpy as np\n",
    "from torchtyping import TensorType as TT\n",
    "tensor = torch.tensor\n",
    "tensor"
   ]
  },
  {
   "cell_type": "code",
   "execution_count": 2,
   "id": "72765b1f-3fd4-47d5-b4a4-6a7a6d748770",
   "metadata": {},
   "outputs": [],
   "source": [
    "def arange(i: int):\n",
    "    \"Use this function to replace a for-loop.\"\n",
    "    return torch.tensor(range(i))"
   ]
  },
  {
   "cell_type": "code",
   "execution_count": 3,
   "id": "3474662b-c9f2-4a20-ab7b-8d5fc57c6af7",
   "metadata": {},
   "outputs": [],
   "source": [
    "def where(q, a, b):\n",
    "    \"Use this function to replace an if-statement.\"\n",
    "    return (q * a) + (~q) * b"
   ]
  },
  {
   "cell_type": "code",
   "execution_count": 4,
   "id": "37cddf28-0790-42b0-a71c-fce319d53410",
   "metadata": {},
   "outputs": [],
   "source": [
    "s = torch.tensor(range(5))\n",
    "\n",
    "t = torch.tensor(range(5))[:, None]"
   ]
  },
  {
   "cell_type": "code",
   "execution_count": 5,
   "id": "dfa6a45a-bdb8-451c-98c0-798cfee6be1a",
   "metadata": {},
   "outputs": [
    {
     "data": {
      "text/plain": [
       "(tensor([0, 1, 2, 3, 4]),\n",
       " tensor([[0],\n",
       "         [1],\n",
       "         [2],\n",
       "         [3],\n",
       "         [4]]))"
      ]
     },
     "execution_count": 5,
     "metadata": {},
     "output_type": "execute_result"
    }
   ],
   "source": [
    "s, t"
   ]
  },
  {
   "cell_type": "code",
   "execution_count": 6,
   "id": "ca74303f-e5c0-4052-89b6-c86223c3ebf9",
   "metadata": {},
   "outputs": [
    {
     "data": {
      "text/plain": [
       "tensor([0, 1, 2, 3, 4])"
      ]
     },
     "execution_count": 6,
     "metadata": {},
     "output_type": "execute_result"
    }
   ],
   "source": [
    "list1 = [val for val in range(5)]\n",
    "list1 = torch.tensor(list1)\n",
    "list1"
   ]
  },
  {
   "cell_type": "code",
   "execution_count": 7,
   "id": "325ca37a-fbb4-4042-84e3-f6367741b907",
   "metadata": {},
   "outputs": [
    {
     "data": {
      "text/plain": [
       "(tensor(0),\n",
       " tensor([0]),\n",
       " tensor(0),\n",
       " torch.Size([5]),\n",
       " torch.Size([5, 1]),\n",
       " torch.Size([5]))"
      ]
     },
     "execution_count": 7,
     "metadata": {},
     "output_type": "execute_result"
    }
   ],
   "source": [
    "s[0], t[0], list1[0], s.shape, t.shape, list1.shape"
   ]
  },
  {
   "cell_type": "code",
   "execution_count": 8,
   "id": "0d3c3b4d-df5a-4334-9aeb-4827820d5508",
   "metadata": {},
   "outputs": [
    {
     "data": {
      "text/plain": [
       "(tensor([[0, 1, 2, 3, 4],\n",
       "         [1, 2, 3, 4, 5],\n",
       "         [2, 3, 4, 5, 6],\n",
       "         [3, 4, 5, 6, 7],\n",
       "         [4, 5, 6, 7, 8]]),\n",
       " torch.Size([5, 5]))"
      ]
     },
     "execution_count": 8,
     "metadata": {},
     "output_type": "execute_result"
    }
   ],
   "source": [
    "# Broadcast arrays\n",
    "a = s + t \n",
    "a, a.shape"
   ]
  },
  {
   "cell_type": "code",
   "execution_count": 9,
   "id": "f26afda7-19e6-4f72-8f5c-f5e39e6fd347",
   "metadata": {},
   "outputs": [],
   "source": [
    "examples = [(tensor([False]), tensor([10]), tensor([0])),\n",
    "            (tensor([False, True]), tensor([1, 1]), tensor([-10, 0])),\n",
    "            (tensor([False, True]), tensor([1]), tensor([-10, 0])),\n",
    "            (tensor([[False, True], [True, False]]), tensor([1]), tensor([-10, 0])),\n",
    "            (tensor([[False, True], [True, False]]), tensor([[0], [10]]), tensor([-10, 0])),\n",
    "           ]"
   ]
  },
  {
   "cell_type": "code",
   "execution_count": 10,
   "id": "0f7b5e99-6eff-42bc-a66d-ec50e7bb6c71",
   "metadata": {},
   "outputs": [
    {
     "name": "stdout",
     "output_type": "stream",
     "text": [
      "tensor([0]) tensor([False]) tensor([10]) tensor([0]) torch.Size([1]) torch.Size([1])\n",
      "tensor([-10,   1]) tensor([False,  True]) tensor([1, 1]) tensor([-10,   0]) torch.Size([2]) torch.Size([2])\n",
      "tensor([-10,   1]) tensor([False,  True]) tensor([1]) tensor([-10,   0]) torch.Size([1]) torch.Size([2])\n",
      "tensor([[-10,   1],\n",
      "        [  1,   0]]) tensor([[False,  True],\n",
      "        [ True, False]]) tensor([1]) tensor([-10,   0]) torch.Size([1]) torch.Size([2])\n",
      "tensor([[-10,   0],\n",
      "        [ 10,   0]]) tensor([[False,  True],\n",
      "        [ True, False]]) tensor([[ 0],\n",
      "        [10]]) tensor([-10,   0]) torch.Size([2, 1]) torch.Size([2])\n"
     ]
    }
   ],
   "source": [
    "for q, a, b in examples:\n",
    "    p = where(q, a, b)\n",
    "    print(p, q, a, b, a.shape, b.shape)"
   ]
  },
  {
   "cell_type": "markdown",
   "id": "8671fccd-641a-4fb9-a0f3-bdc2e25802d1",
   "metadata": {},
   "source": [
    "## Basic functions\n",
    "\n",
    "Use the above functions to understand pytorch tensor"
   ]
  },
  {
   "cell_type": "code",
   "execution_count": 15,
   "id": "01a182ee-d320-4dcb-adf9-4ae48d7677d2",
   "metadata": {},
   "outputs": [
    {
     "data": {
      "text/plain": [
       "tensor([1, 1, 1, 1, 1])"
      ]
     },
     "execution_count": 15,
     "metadata": {},
     "output_type": "execute_result"
    }
   ],
   "source": [
    "# Creating tensor of ones\n",
    "\n",
    "def ones_spec(out):\n",
    "    for i in range(len(out)):\n",
    "        out[i] = 1\n",
    "        \n",
    "def ones(i: int) -> TT[\"i\"]:\n",
    "    out = torch.tensor(np.ones(i), dtype = int)\n",
    "    return out\n",
    "\n",
    "t = ones(5)\n",
    "t"
   ]
  },
  {
   "cell_type": "code",
   "execution_count": null,
   "id": "c7255d5d-323b-4875-8f83-e6c2507c184c",
   "metadata": {},
   "outputs": [],
   "source": []
  },
  {
   "cell_type": "code",
   "execution_count": null,
   "id": "cf976054-4b1b-4e9a-a681-9030149e5136",
   "metadata": {},
   "outputs": [],
   "source": []
  },
  {
   "cell_type": "code",
   "execution_count": null,
   "id": "d9ede913-bb95-4106-8bcc-466a9c97a1b5",
   "metadata": {},
   "outputs": [],
   "source": []
  },
  {
   "cell_type": "code",
   "execution_count": null,
   "id": "2647a539-801a-4ed1-84ee-be3183168868",
   "metadata": {},
   "outputs": [],
   "source": []
  }
 ],
 "metadata": {
  "kernelspec": {
   "display_name": "pt_hello_world",
   "language": "python",
   "name": "pt_hello_world"
  },
  "language_info": {
   "codemirror_mode": {
    "name": "ipython",
    "version": 3
   },
   "file_extension": ".py",
   "mimetype": "text/x-python",
   "name": "python",
   "nbconvert_exporter": "python",
   "pygments_lexer": "ipython3",
   "version": "3.9.0"
  }
 },
 "nbformat": 4,
 "nbformat_minor": 5
}
