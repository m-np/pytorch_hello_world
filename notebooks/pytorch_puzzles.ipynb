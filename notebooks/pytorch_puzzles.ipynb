{
 "cells": [
  {
   "cell_type": "markdown",
   "id": "015a9d56-5598-4c15-bc80-ea442d7fa829",
   "metadata": {},
   "source": [
    "# Resources\n",
    "\n",
    "We are using the [this](https://github.com/srush/Tensor-Puzzles/tree/main) to solve pytorch problems"
   ]
  },
  {
   "cell_type": "code",
   "execution_count": 1,
   "id": "4ed5ebf5-6f7c-4571-bae7-d94af8dfc96b",
   "metadata": {},
   "outputs": [
    {
     "data": {
      "text/plain": [
       "<function torch._VariableFunctionsClass.tensor>"
      ]
     },
     "execution_count": 1,
     "metadata": {},
     "output_type": "execute_result"
    }
   ],
   "source": [
    "import torch\n",
    "import numpy as np\n",
    "from torchtyping import TensorType as TT\n",
    "tensor = torch.tensor\n",
    "tensor"
   ]
  },
  {
   "cell_type": "code",
   "execution_count": 2,
   "id": "72765b1f-3fd4-47d5-b4a4-6a7a6d748770",
   "metadata": {},
   "outputs": [],
   "source": [
    "def arange(i: int):\n",
    "    \"Use this function to replace a for-loop.\"\n",
    "    return torch.tensor(range(i))"
   ]
  },
  {
   "cell_type": "code",
   "execution_count": 3,
   "id": "3474662b-c9f2-4a20-ab7b-8d5fc57c6af7",
   "metadata": {},
   "outputs": [],
   "source": [
    "def where(q, a, b):\n",
    "    \"Use this function to replace an if-statement.\"\n",
    "    return (q * a) + (~q) * b"
   ]
  },
  {
   "cell_type": "code",
   "execution_count": 4,
   "id": "37cddf28-0790-42b0-a71c-fce319d53410",
   "metadata": {},
   "outputs": [],
   "source": [
    "s = torch.tensor(range(5))\n",
    "\n",
    "t = torch.tensor(range(5))[:, None]"
   ]
  },
  {
   "cell_type": "code",
   "execution_count": 5,
   "id": "dfa6a45a-bdb8-451c-98c0-798cfee6be1a",
   "metadata": {},
   "outputs": [
    {
     "data": {
      "text/plain": [
       "(tensor([0, 1, 2, 3, 4]),\n",
       " tensor([[0],\n",
       "         [1],\n",
       "         [2],\n",
       "         [3],\n",
       "         [4]]))"
      ]
     },
     "execution_count": 5,
     "metadata": {},
     "output_type": "execute_result"
    }
   ],
   "source": [
    "s, t"
   ]
  },
  {
   "cell_type": "code",
   "execution_count": 6,
   "id": "ca74303f-e5c0-4052-89b6-c86223c3ebf9",
   "metadata": {},
   "outputs": [
    {
     "data": {
      "text/plain": [
       "tensor([0, 1, 2, 3, 4])"
      ]
     },
     "execution_count": 6,
     "metadata": {},
     "output_type": "execute_result"
    }
   ],
   "source": [
    "list1 = [val for val in range(5)]\n",
    "list1 = torch.tensor(list1)\n",
    "list1"
   ]
  },
  {
   "cell_type": "code",
   "execution_count": 7,
   "id": "325ca37a-fbb4-4042-84e3-f6367741b907",
   "metadata": {},
   "outputs": [
    {
     "data": {
      "text/plain": [
       "(tensor(0),\n",
       " tensor([0]),\n",
       " tensor(0),\n",
       " torch.Size([5]),\n",
       " torch.Size([5, 1]),\n",
       " torch.Size([5]))"
      ]
     },
     "execution_count": 7,
     "metadata": {},
     "output_type": "execute_result"
    }
   ],
   "source": [
    "s[0], t[0], list1[0], s.shape, t.shape, list1.shape"
   ]
  },
  {
   "cell_type": "code",
   "execution_count": 8,
   "id": "0d3c3b4d-df5a-4334-9aeb-4827820d5508",
   "metadata": {},
   "outputs": [
    {
     "data": {
      "text/plain": [
       "(tensor([[0, 1, 2, 3, 4],\n",
       "         [1, 2, 3, 4, 5],\n",
       "         [2, 3, 4, 5, 6],\n",
       "         [3, 4, 5, 6, 7],\n",
       "         [4, 5, 6, 7, 8]]),\n",
       " torch.Size([5, 5]))"
      ]
     },
     "execution_count": 8,
     "metadata": {},
     "output_type": "execute_result"
    }
   ],
   "source": [
    "# Broadcast arrays\n",
    "a = s + t \n",
    "a, a.shape"
   ]
  },
  {
   "cell_type": "code",
   "execution_count": 9,
   "id": "f26afda7-19e6-4f72-8f5c-f5e39e6fd347",
   "metadata": {},
   "outputs": [],
   "source": [
    "examples = [(tensor([False]), tensor([10]), tensor([0])),\n",
    "            (tensor([False, True]), tensor([1, 1]), tensor([-10, 0])),\n",
    "            (tensor([False, True]), tensor([1]), tensor([-10, 0])),\n",
    "            (tensor([[False, True], [True, False]]), tensor([1]), tensor([-10, 0])),\n",
    "            (tensor([[False, True], [True, False]]), tensor([[0], [10]]), tensor([-10, 0])),\n",
    "           ]"
   ]
  },
  {
   "cell_type": "code",
   "execution_count": 10,
   "id": "0f7b5e99-6eff-42bc-a66d-ec50e7bb6c71",
   "metadata": {},
   "outputs": [
    {
     "name": "stdout",
     "output_type": "stream",
     "text": [
      "tensor([0]) tensor([False]) tensor([10]) tensor([0]) torch.Size([1]) torch.Size([1])\n",
      "tensor([-10,   1]) tensor([False,  True]) tensor([1, 1]) tensor([-10,   0]) torch.Size([2]) torch.Size([2])\n",
      "tensor([-10,   1]) tensor([False,  True]) tensor([1]) tensor([-10,   0]) torch.Size([1]) torch.Size([2])\n",
      "tensor([[-10,   1],\n",
      "        [  1,   0]]) tensor([[False,  True],\n",
      "        [ True, False]]) tensor([1]) tensor([-10,   0]) torch.Size([1]) torch.Size([2])\n",
      "tensor([[-10,   0],\n",
      "        [ 10,   0]]) tensor([[False,  True],\n",
      "        [ True, False]]) tensor([[ 0],\n",
      "        [10]]) tensor([-10,   0]) torch.Size([2, 1]) torch.Size([2])\n"
     ]
    }
   ],
   "source": [
    "for q, a, b in examples:\n",
    "    p = where(q, a, b)\n",
    "    print(p, q, a, b, a.shape, b.shape)"
   ]
  },
  {
   "cell_type": "markdown",
   "id": "8671fccd-641a-4fb9-a0f3-bdc2e25802d1",
   "metadata": {},
   "source": [
    "## Basic functions\n",
    "\n",
    "Use the above functions to understand pytorch tensor"
   ]
  },
  {
   "cell_type": "markdown",
   "id": "16bf6948-24bb-4db7-b68e-1b564ba3091d",
   "metadata": {},
   "source": [
    "## Puzzle 1 - ones"
   ]
  },
  {
   "cell_type": "code",
   "execution_count": 11,
   "id": "01a182ee-d320-4dcb-adf9-4ae48d7677d2",
   "metadata": {},
   "outputs": [
    {
     "data": {
      "text/plain": [
       "tensor([1, 1, 1, 1, 1])"
      ]
     },
     "execution_count": 11,
     "metadata": {},
     "output_type": "execute_result"
    }
   ],
   "source": [
    "# Creating tensor of ones\n",
    "\n",
    "def ones_spec(out):\n",
    "    for i in range(len(out)):\n",
    "        out[i] = 1\n",
    "        \n",
    "def ones(i: int) -> TT[\"i\"]:\n",
    "    out = torch.tensor(np.ones(i), dtype = int)\n",
    "    return out\n",
    "\n",
    "t = ones(5)\n",
    "t"
   ]
  },
  {
   "cell_type": "markdown",
   "id": "b616ea6c-1efb-40b6-a7b9-70f4c79365b6",
   "metadata": {},
   "source": [
    "## Puzzle 2 - sum"
   ]
  },
  {
   "cell_type": "code",
   "execution_count": 12,
   "id": "cf976054-4b1b-4e9a-a681-9030149e5136",
   "metadata": {},
   "outputs": [
    {
     "name": "stdout",
     "output_type": "stream",
     "text": [
      "tensor([1, 1, 1, 1, 1])\n"
     ]
    },
    {
     "data": {
      "text/plain": [
       "tensor([5])"
      ]
     },
     "execution_count": 12,
     "metadata": {},
     "output_type": "execute_result"
    }
   ],
   "source": [
    "def sum_spec(a, out):\n",
    "    out[0] = 0\n",
    "    for i in range(len(a)):\n",
    "        out[0] += a[i]\n",
    "        \n",
    "def sum(a: TT[\"i\"]) -> TT[1]:\n",
    "    print(a)\n",
    "    out = np.sum([a[i] for i in range(len(a))])\n",
    "    out = [out]\n",
    "    return torch.tensor(out)\n",
    "\n",
    "t = ones(5)\n",
    "t = sum(t)\n",
    "t"
   ]
  },
  {
   "cell_type": "markdown",
   "id": "edc2a52e-c4bc-4ee1-94aa-bd45e94e79c3",
   "metadata": {},
   "source": [
    "## Puzzle 3 - outer"
   ]
  },
  {
   "cell_type": "code",
   "execution_count": 13,
   "id": "2647a539-801a-4ed1-84ee-be3183168868",
   "metadata": {},
   "outputs": [
    {
     "data": {
      "text/plain": [
       "tensor([[ 8,  8,  8,  8,  8],\n",
       "        [ 8,  8,  8,  8,  8],\n",
       "        [ 8,  8,  8,  8,  8],\n",
       "        [-4, -4, -4, -4, -4]])"
      ]
     },
     "execution_count": 13,
     "metadata": {},
     "output_type": "execute_result"
    }
   ],
   "source": [
    "def outer_spec(a, b, out):\n",
    "    for i in range(len(out)):\n",
    "        for j in range(len(out[0])):\n",
    "            out[i][j] = a[i] * b[j]\n",
    "            \n",
    "def outer(a: TT[\"i\"], b: TT[\"j\"]) -> TT[\"i\", \"j\"]:\n",
    "    out = np.ones((len(a), len(b)), dtype = float)\n",
    "    out = np.outer(a, b)\n",
    "    return torch.tensor(out)\n",
    "\n",
    "a = torch.tensor([ 2,  2,  2, -1])\n",
    "b = torch.tensor([[4, 4, 4, 4, 4]])\n",
    "out = outer(a, b)\n",
    "out"
   ]
  },
  {
   "cell_type": "markdown",
   "id": "1c6bb7ca-0b0e-4401-91e4-f137f03b8bc0",
   "metadata": {},
   "source": [
    "## Puzzle 4 - diag"
   ]
  },
  {
   "cell_type": "code",
   "execution_count": 14,
   "id": "08ddba88-165d-4c4b-a8d4-4b99187c0e0d",
   "metadata": {},
   "outputs": [
    {
     "name": "stdout",
     "output_type": "stream",
     "text": [
      "tensor([ 3, -5,  3,  3])\n"
     ]
    }
   ],
   "source": [
    "def diag_spec(a, out):\n",
    "    for i in range(len(a)):\n",
    "        out[i] = a[i][i]\n",
    "        \n",
    "def diag(a: TT[\"i\", \"i\"]) -> TT[\"i\"]:\n",
    "    out = np.diag(a, k=0)\n",
    "    return torch.tensor(out)\n",
    "\n",
    "a = torch.tensor([[ 3,  3,  3,  3],\n",
    "        [ 3, -5,  3,  3],\n",
    "        [ 0,  3,  3,  3],\n",
    "        [ 3,  3,  3,  3]])\n",
    "out = diag(a)\n",
    "print(out)"
   ]
  },
  {
   "cell_type": "markdown",
   "id": "6ec4ca80-0ebc-4a6d-9b5c-4e86189d8305",
   "metadata": {},
   "source": [
    "## Puzzle 5 - eye"
   ]
  },
  {
   "cell_type": "code",
   "execution_count": 15,
   "id": "459543a1-5d19-44e3-9547-3377cb2631d0",
   "metadata": {},
   "outputs": [
    {
     "name": "stdout",
     "output_type": "stream",
     "text": [
      "tensor([[1, 0, 0, 0, 0],\n",
      "        [0, 1, 0, 0, 0],\n",
      "        [0, 0, 1, 0, 0],\n",
      "        [0, 0, 0, 1, 0],\n",
      "        [0, 0, 0, 0, 1]])\n"
     ]
    }
   ],
   "source": [
    "def eye_spec(out):\n",
    "    for i in range(len(out)):\n",
    "        out[i][i] = 1\n",
    "        \n",
    "def eye(j: int) -> TT[\"j\", \"j\"]:\n",
    "    out = np.eye(j, dtype = int)\n",
    "    return torch.tensor(out)\n",
    "\n",
    "out = eye(5)\n",
    "print(out)"
   ]
  },
  {
   "cell_type": "markdown",
   "id": "800d0804-53d0-476a-916e-10935c9c08e6",
   "metadata": {},
   "source": [
    "## Puzzle 6 - triu"
   ]
  },
  {
   "cell_type": "code",
   "execution_count": null,
   "id": "d57da3cb-d56c-4726-b71b-016619111be8",
   "metadata": {},
   "outputs": [],
   "source": [
    "def triu_spec(out):\n",
    "    for i in range(len(out)):\n",
    "        for j in range(len(out)):\n",
    "            if i <= j:\n",
    "                out[i][j] = 1\n",
    "            else:\n",
    "                out[i][j] = 0\n",
    "                \n",
    "def triu(j: int) -> TT[\"j\", \"j\"]:\n",
    "    out = np.zeros((j,j), dtype = int)\n",
    "    for i in range(j):\n",
    "      for k in range(j):\n",
    "        if i <= k:\n",
    "          out[i,k] = 1\n",
    "    return torch.tensor(out)\n",
    "out = triu(5)\n",
    "print(out)"
   ]
  },
  {
   "cell_type": "markdown",
   "id": "66b2a026-faef-4b45-a736-b426dac5fc22",
   "metadata": {},
   "source": [
    "## Puzzle 7 - cumsum"
   ]
  },
  {
   "cell_type": "code",
   "execution_count": 17,
   "id": "f2ad1b30-0b5c-43b2-9971-99ca370d74be",
   "metadata": {},
   "outputs": [
    {
     "name": "stdout",
     "output_type": "stream",
     "text": [
      "tensor([ 0, -4,  1])\n"
     ]
    },
    {
     "name": "stderr",
     "output_type": "stream",
     "text": [
      "/tmp/ipykernel_59800/2591688250.py:9: UserWarning: To copy construct from a tensor, it is recommended to use sourceTensor.clone().detach() or sourceTensor.clone().detach().requires_grad_(True), rather than torch.tensor(sourceTensor).\n",
      "  return torch.tensor(out)\n"
     ]
    }
   ],
   "source": [
    "def cumsum_spec(a, out):\n",
    "    total = 0\n",
    "    for i in range(len(out)):\n",
    "        out[i] = total + a[i]\n",
    "        total += a[i]\n",
    "\n",
    "def cumsum(a: TT[\"i\"]) -> TT[\"i\"]:\n",
    "    out = np.cumsum(a)\n",
    "    return torch.tensor(out)\n",
    "\n",
    "a = torch.tensor([ 0, -4,  5])\n",
    "out = cumsum(a)\n",
    "print(out)"
   ]
  },
  {
   "cell_type": "markdown",
   "id": "1739e4f7-9c51-4209-9ee0-ba57fe3beb91",
   "metadata": {},
   "source": [
    "## Puzzle 8 - diff"
   ]
  },
  {
   "cell_type": "code",
   "execution_count": 19,
   "id": "5b1d74bd-11a3-4a02-8398-7abbd127472b",
   "metadata": {},
   "outputs": [
    {
     "name": "stdout",
     "output_type": "stream",
     "text": [
      "tensor([-2,  0,  0,  2])\n"
     ]
    }
   ],
   "source": [
    "def diff_spec(a, out):\n",
    "    out[0] = a[0]\n",
    "    for i in range(1, len(out)):\n",
    "        out[i] = a[i] - a[i - 1]\n",
    "\n",
    "def diff(a: TT[\"i\"], i: int) -> TT[\"i\"]:\n",
    "    out = np.zeros(len(a), dtype = int)\n",
    "    out[0] = a[0]\n",
    "    for i in range(1, len(out)):\n",
    "        out[i] = a[i] - a[i - 1]\n",
    "    return torch.tensor(out)\n",
    "a = torch.tensor([-2, -2, -2,  0]) \n",
    "i = 3\n",
    "out = diff(a, i)\n",
    "print(out)"
   ]
  },
  {
   "cell_type": "markdown",
   "id": "a1972f62-d3a1-4678-b7d7-184bbcb86ec5",
   "metadata": {},
   "source": [
    "## Puzzle 9 - vstack"
   ]
  },
  {
   "cell_type": "code",
   "execution_count": 20,
   "id": "33436131-0899-437a-8dfd-05def9989915",
   "metadata": {},
   "outputs": [
    {
     "name": "stdout",
     "output_type": "stream",
     "text": [
      "tensor([[ 3,  0, -3,  4],\n",
      "        [-2, -5, -1,  0]])\n"
     ]
    }
   ],
   "source": [
    "def vstack_spec(a, b, out):\n",
    "    for i in range(len(out[0])):\n",
    "        out[0][i] = a[i]\n",
    "        out[1][i] = b[i]\n",
    "\n",
    "def vstack(a: TT[\"i\"], b: TT[\"i\"]) -> TT[2, \"i\"]:\n",
    "    out = np.vstack((a,b))\n",
    "    return torch.tensor(out)\n",
    "\n",
    "a = torch.tensor([ 3,  0, -3,  4]) \n",
    "b = torch.tensor([-2, -5, -1,  0])\n",
    "out = vstack(a,b)\n",
    "print(out)"
   ]
  },
  {
   "cell_type": "markdown",
   "id": "c726f212-541a-4a19-a350-2e15ff9019d8",
   "metadata": {},
   "source": [
    "## Puzzle 10 - roll"
   ]
  },
  {
   "cell_type": "code",
   "execution_count": 21,
   "id": "da883151-eb03-4f93-9c2a-c8be854c23b6",
   "metadata": {},
   "outputs": [
    {
     "name": "stdout",
     "output_type": "stream",
     "text": [
      "tensor([ 0,  0, -4, -4,  4])\n"
     ]
    }
   ],
   "source": [
    "def roll_spec(a, out):\n",
    "    for i in range(len(out)):\n",
    "        if i + 1 < len(out):\n",
    "            out[i] = a[i + 1]\n",
    "        else:\n",
    "            out[i] = a[i + 1 - len(out)]\n",
    "            \n",
    "def roll(a: TT[\"i\"], i: int) -> TT[\"i\"]:\n",
    "    return torch.tensor(np.roll(a, shift = i-1))\n",
    "\n",
    "a = torch.tensor([ 4,  0,  0, -4, -4]) \n",
    "b = torch.tensor(5)\n",
    "out = roll(a, b)\n",
    "print(out)"
   ]
  },
  {
   "cell_type": "markdown",
   "id": "8e8b4b7d-59d1-4ee3-9a16-53a88db60a14",
   "metadata": {},
   "source": [
    "## Puzzle 11 - flip"
   ]
  },
  {
   "cell_type": "code",
   "execution_count": 23,
   "id": "31580a86-8794-4f89-b316-68d92da41a7b",
   "metadata": {},
   "outputs": [
    {
     "name": "stdout",
     "output_type": "stream",
     "text": [
      "tensor([-1, -5, -1, -1])\n"
     ]
    }
   ],
   "source": [
    "def flip_spec(a, out):\n",
    "    for i in range(len(out)):\n",
    "        out[i] = a[len(out) - i - 1]\n",
    "        \n",
    "def flip(a: TT[\"i\"], i: int) -> TT[\"i\"]:\n",
    "    out = np.zeros((len(a)), dtype = int)\n",
    "    for i in range(len(out)):\n",
    "        out[i] = a[len(out) - i - 1]\n",
    "    return torch.tensor(out)\n",
    "\n",
    "a = torch.tensor([-1, -1, -5, -1]) \n",
    "i = torch.tensor(4)\n",
    "out = flip(a,i)\n",
    "print(out)"
   ]
  },
  {
   "cell_type": "markdown",
   "id": "d7c078d7-20ed-4eca-a0bd-70adfcea7fc3",
   "metadata": {},
   "source": [
    "## Puzzle 12 - compress"
   ]
  },
  {
   "cell_type": "code",
   "execution_count": 24,
   "id": "9e18885d-3838-4baf-97cc-83d354322743",
   "metadata": {},
   "outputs": [
    {
     "name": "stdout",
     "output_type": "stream",
     "text": [
      "tensor([ 1, -2, -3])\n"
     ]
    }
   ],
   "source": [
    "def compress_spec(g, v, out):\n",
    "    j = 0\n",
    "    for i in range(len(g)):\n",
    "        if g[i]:\n",
    "            out[j] = v[i]\n",
    "            j += 1\n",
    "            \n",
    "def compress(g: TT[\"i\", bool], v: TT[\"i\"], i:int) -> TT[\"i\"]:\n",
    "    out = np.zeros((len(v)), dtype = int)\n",
    "    j = 0\n",
    "    for i in range(len(g)):\n",
    "        if g[i]:\n",
    "            out[j] = v[i]\n",
    "            j += 1\n",
    "    return torch.tensor(out)\n",
    "\n",
    "g = torch.tensor([True, True, True]) \n",
    "v = torch.tensor([ 1, -2, -3]) \n",
    "i = torch.tensor(3)\n",
    "print(compress(g,v,i))"
   ]
  },
  {
   "cell_type": "markdown",
   "id": "fc230870-000c-4006-ae0c-13afc8e1cfe1",
   "metadata": {},
   "source": [
    "## Puzzle 13 - pad_to"
   ]
  },
  {
   "cell_type": "code",
   "execution_count": 25,
   "id": "0460dce1-ae11-41df-a490-b50c9798ef00",
   "metadata": {},
   "outputs": [
    {
     "name": "stdout",
     "output_type": "stream",
     "text": [
      "tensor([0, 0, 0])\n"
     ]
    }
   ],
   "source": [
    "def pad_to_spec(a, out):\n",
    "    for i in range(min(len(out), len(a))):\n",
    "        out[i] = a[i]\n",
    "\n",
    "\n",
    "def pad_to(a: TT[\"i\"], i: int, j: int) -> TT[\"j\"]:\n",
    "    out = np.zeros(max(i,j), dtype = int)\n",
    "    for k in range(min(len(out), len(a))):\n",
    "        out[k] = a[k]\n",
    "    out = out[:j]\n",
    "    return torch.tensor(out)\n",
    "\n",
    "a = torch.tensor([0, 0, 0, 0, 0]) \n",
    "i = torch.tensor(5) \n",
    "j = torch.tensor(3)\n",
    "print(pad_to(a, i, j))"
   ]
  },
  {
   "cell_type": "markdown",
   "id": "adbad46f-5f11-43f4-92d4-fd70991f4f8d",
   "metadata": {},
   "source": [
    "## Puzzle 14 - sequence_mask"
   ]
  },
  {
   "cell_type": "code",
   "execution_count": 26,
   "id": "793af8a3-678a-4b77-8d9d-226e4a6ad9d8",
   "metadata": {},
   "outputs": [
    {
     "name": "stdout",
     "output_type": "stream",
     "text": [
      "tensor([[ 3,  5,  0],\n",
      "        [-2,  0,  0],\n",
      "        [-3,  0,  0],\n",
      "        [-5, -5,  0]])\n"
     ]
    }
   ],
   "source": [
    "def sequence_mask_spec(values, length, out):\n",
    "    for i in range(len(out)):\n",
    "        for j in range(len(out[0])):\n",
    "            if j < length[i]:\n",
    "                out[i][j] = values[i][j]\n",
    "            else:\n",
    "                out[i][j] = 0\n",
    "    \n",
    "def sequence_mask(values: TT[\"i\", \"j\"], length: TT[\"i\", int]) -> TT[\"i\", \"j\"]:\n",
    "    l = length[0]\n",
    "    arr = np.zeros(len(values[0]), dtype = int)\n",
    "    for j in range(l):\n",
    "      arr[j] = 1\n",
    "    bool_arr = np.array(arr, dtype='bool') \n",
    "    out = compress(bool_arr, values[0,:], 0)\n",
    "\n",
    "    for i in range(1, len(length)):\n",
    "      l = length[i]\n",
    "      arr = np.zeros(len(values[0]), dtype = int)\n",
    "      for j in range(l):\n",
    "        arr[j] = 1\n",
    "      bool_arr = np.array(arr, dtype='bool') \n",
    "      temp = compress(bool_arr, values[i,:], i)\n",
    "      out = vstack(out, temp)\n",
    "    return out\n",
    "\n",
    "\n",
    "def constraint_set_length(d):\n",
    "    d[\"length\"] = d[\"length\"] % d[\"values\"].shape[1]\n",
    "    return d\n",
    "\n",
    "a = torch.tensor([[ 3,  5, -2],\n",
    "        [-2,  0,  2],\n",
    "        [-3,  0,  0],\n",
    "        [-5, -5,  4]]) \n",
    "b = torch.tensor([2, 2, 2, 2])\n",
    "\n",
    "print(sequence_mask(a,b))\n"
   ]
  },
  {
   "cell_type": "markdown",
   "id": "4a361d80-b8d1-4ab0-a69f-6b6819dd349d",
   "metadata": {},
   "source": [
    "## Puzzle 15 - bincount"
   ]
  },
  {
   "cell_type": "code",
   "execution_count": 27,
   "id": "486d4221-6c79-4788-b015-7794efadc7c5",
   "metadata": {},
   "outputs": [
    {
     "name": "stdout",
     "output_type": "stream",
     "text": [
      "tensor([2, 2, 2, 2, 2]) tensor(3)\n",
      "tensor([0, 0, 5])\n"
     ]
    },
    {
     "name": "stderr",
     "output_type": "stream",
     "text": [
      "/tmp/ipykernel_59800/2799107016.py:11: UserWarning: To copy construct from a tensor, it is recommended to use sourceTensor.clone().detach() or sourceTensor.clone().detach().requires_grad_(True), rather than torch.tensor(sourceTensor).\n",
      "  return torch.tensor(out)\n"
     ]
    }
   ],
   "source": [
    "def bincount_spec(a, out):\n",
    "    for i in range(len(a)):\n",
    "        out[a[i]] += 1\n",
    "    # print(1, a, out)\n",
    "        \n",
    "def bincount(a: TT[\"i\"], j: int) -> TT[\"j\"]:\n",
    "\n",
    "    out = np.bincount(a)\n",
    "    out = pad_to(out, len(out), j)\n",
    "    print(a, j)\n",
    "    return torch.tensor(out)\n",
    "\n",
    "\n",
    "def constraint_set_max(d):\n",
    "    d[\"a\"] = d[\"a\"] % d[\"return\"].shape[0]\n",
    "    return d\n",
    "\n",
    "a = torch.tensor([2, 2, 2, 2, 2]) \n",
    "j = torch.tensor(3)\n",
    "print(bincount(a, j))"
   ]
  },
  {
   "cell_type": "markdown",
   "id": "e87b2b00-6f6a-4646-bced-ebecf20283cd",
   "metadata": {},
   "source": [
    "## Puzzle 16 - scatter_add"
   ]
  },
  {
   "cell_type": "code",
   "execution_count": 28,
   "id": "efb700e6-b023-40f8-94b8-18ae5986b4a8",
   "metadata": {},
   "outputs": [
    {
     "name": "stdout",
     "output_type": "stream",
     "text": [
      "tensor([ 0, -1,  2,  0])\n"
     ]
    }
   ],
   "source": [
    "def scatter_add_spec(values, link, out):\n",
    "    for j in range(len(values)):\n",
    "        out[link[j]] += values[j]\n",
    "        \n",
    "def scatter_add(values: TT[\"i\"], link: TT[\"i\"], j: int) -> TT[\"j\"]:\n",
    "    out = np.zeros(max(len(values), j), dtype = int)\n",
    "    for k in range(len(values)):\n",
    "        out[link[k]] += values[k]\n",
    "    out = out[:j]\n",
    "    return torch.tensor(out)\n",
    "\n",
    "\n",
    "def constraint_set_max(d):\n",
    "    d[\"link\"] = d[\"link\"] % d[\"return\"].shape[0]\n",
    "    return d\n",
    "\n",
    "values = torch.tensor([-2,  0,  1,  1,  1]) \n",
    "link = torch.tensor([1, 1, 2, 1, 2]) \n",
    "j = torch.tensor(4)\n",
    "print(scatter_add(values, link, j))"
   ]
  },
  {
   "cell_type": "markdown",
   "id": "34129d79-830c-451c-98ef-1a9edae10582",
   "metadata": {},
   "source": [
    "## Puzzle 17 - flatten"
   ]
  },
  {
   "cell_type": "code",
   "execution_count": 31,
   "id": "a3560bc4-d6e2-45fd-b0e7-22b6108607fd",
   "metadata": {},
   "outputs": [
    {
     "name": "stdout",
     "output_type": "stream",
     "text": [
      "tensor([ 0, -3, -5,  0,  3, -2, -4,  0,  2,  0,  5, -5])\n"
     ]
    }
   ],
   "source": [
    "def flatten_spec(a, out):\n",
    "    k = 0\n",
    "    for i in range(len(a)):\n",
    "        for j in range(len(a[0])):\n",
    "            out[k] = a[i][j]\n",
    "            k += 1\n",
    "\n",
    "def flatten(a: TT[\"i\", \"j\"], i:int, j:int) -> TT[\"i * j\"]:\n",
    "    out = a[0,:]\n",
    "    for k in range(1, i):\n",
    "      out = np.hstack((out, a[k, :]))\n",
    "    return torch.tensor(out)\n",
    "\n",
    "a = torch.tensor([[ 0, -3, -5,  0],\n",
    "        [ 3, -2, -4,  0],\n",
    "        [ 2,  0,  5, -5]])\n",
    "i = torch.tensor(3) \n",
    "j = torch.tensor(4)\n",
    "print(flatten(a, i, j))"
   ]
  },
  {
   "cell_type": "markdown",
   "id": "c8d9c42c-bc24-4e1c-806d-2e3ccb3cd1d6",
   "metadata": {},
   "source": [
    "## Puzzle 18 - linspace"
   ]
  },
  {
   "cell_type": "code",
   "execution_count": 32,
   "id": "09e869dc-806f-4018-86ff-373ede23ff57",
   "metadata": {},
   "outputs": [
    {
     "name": "stdout",
     "output_type": "stream",
     "text": [
      "tensor([ 2.,  1.,  0., -1., -2.])\n"
     ]
    }
   ],
   "source": [
    "def linspace_spec(i, j, out):\n",
    "    for k in range(len(out)):\n",
    "        out[k] = float(i + (j - i) * k / max(1, len(out) - 1))\n",
    "\n",
    "def linspace(i: TT[1], j: TT[1], n: int) -> TT[\"n\", float]:\n",
    "    out = np.zeros(n, dtype = np.float32)\n",
    "    for k in range(len(out)):\n",
    "        out[k] = float(i + (j - i) * k / max(1, len(out) - 1))\n",
    "    return torch.tensor(out)\n",
    "\n",
    "i = torch.tensor([2]) \n",
    "j = torch.tensor([-2]) \n",
    "n = torch.tensor(5)\n",
    "print(linspace(i, j, n))"
   ]
  },
  {
   "cell_type": "markdown",
   "id": "a957de2c-55d2-4a6e-b709-4c29dacc095f",
   "metadata": {},
   "source": [
    "## Puzzle 19 - heaviside"
   ]
  },
  {
   "cell_type": "code",
   "execution_count": 33,
   "id": "1404ca86-6bae-448b-9130-8369ab5cf2c5",
   "metadata": {},
   "outputs": [
    {
     "name": "stdout",
     "output_type": "stream",
     "text": [
      "tensor([1, 1, 1])\n"
     ]
    },
    {
     "name": "stderr",
     "output_type": "stream",
     "text": [
      "/tmp/ipykernel_59800/2408483715.py:9: UserWarning: To copy construct from a tensor, it is recommended to use sourceTensor.clone().detach() or sourceTensor.clone().detach().requires_grad_(True), rather than torch.tensor(sourceTensor).\n",
      "  return torch.tensor(np.heaviside(a, b), dtype = int)\n"
     ]
    }
   ],
   "source": [
    "def heaviside_spec(a, b, out):\n",
    "    for k in range(len(out)):\n",
    "        if a[k] == 0:\n",
    "            out[k] = b[k]\n",
    "        else:\n",
    "            out[k] = int(a[k] > 0)\n",
    "\n",
    "def heaviside(a: TT[\"i\"], b: TT[\"i\"]) -> TT[\"i\"]:\n",
    "    return torch.tensor(np.heaviside(a, b), dtype = int)\n",
    "\n",
    "a = torch.tensor([1, 1, 1]) \n",
    "b = torch.tensor([-3, -1,  1])\n",
    "print(heaviside(a,b))"
   ]
  },
  {
   "cell_type": "markdown",
   "id": "0f51cdef-e06e-4b91-b36a-378c190d4afb",
   "metadata": {},
   "source": [
    "## Puzzle 20 - repeat (1d)"
   ]
  },
  {
   "cell_type": "code",
   "execution_count": 34,
   "id": "3818092d-10a9-4f4c-8584-680fbae65d9b",
   "metadata": {},
   "outputs": [
    {
     "name": "stdout",
     "output_type": "stream",
     "text": [
      "tensor([[0, 3, 0, 3, 0],\n",
      "        [0, 3, 0, 3, 0],\n",
      "        [0, 3, 0, 3, 0],\n",
      "        [0, 3, 0, 3, 0]])\n"
     ]
    }
   ],
   "source": [
    "def repeat_spec(a, d, out):\n",
    "    for i in range(d[0]):\n",
    "        for k in range(len(a)):\n",
    "            out[i][k] = a[k]\n",
    "    print(1, a, d, out)\n",
    "\n",
    "def constraint_set(d):\n",
    "    d[\"d\"][0] = d[\"return\"].shape[0]\n",
    "    return d\n",
    "\n",
    "            \n",
    "def repeat(a: TT[\"i\"], d: TT[1]) -> TT[\"d\", \"i\"]:\n",
    "    out = a\n",
    "    for i in range(1, d[0]):\n",
    "      out = vstack(out, a)\n",
    "    return out\n",
    "\n",
    "a = torch.tensor([0, 3, 0, 3, 0])\n",
    "d = torch.tensor([4])\n",
    "print(repeat(a, d))"
   ]
  },
  {
   "cell_type": "code",
   "execution_count": 35,
   "id": "80856e81-2fe6-43c6-8044-abf080513aac",
   "metadata": {},
   "outputs": [
    {
     "name": "stdout",
     "output_type": "stream",
     "text": [
      "tensor([2, 2, 2, 2])\n"
     ]
    }
   ],
   "source": [
    "def bucketize_spec(v, boundaries, out):\n",
    "    for i, val in enumerate(v):\n",
    "        out[i] = 0\n",
    "        for j in range(len(boundaries)-1):\n",
    "            if val >= boundaries[j]:\n",
    "                out[i] = j + 1\n",
    "        if val >= boundaries[-1]:\n",
    "            out[i] = len(boundaries)\n",
    "    print(v, boundaries, out)\n",
    "\n",
    "\n",
    "def constraint_set(d):\n",
    "    d[\"boundaries\"] = np.abs(d[\"boundaries\"]).cumsum()\n",
    "    return d\n",
    "\n",
    "            \n",
    "def bucketize(v: TT[\"i\"], boundaries: TT[\"j\"]) -> TT[\"i\"]:\n",
    "    out = np.zeros(len(v), dtype = int)\n",
    "    for i, val in enumerate(v):\n",
    "        out[i] = 0\n",
    "        for j in range(len(boundaries)-1):\n",
    "            if val >= boundaries[j]:\n",
    "                out[i] = j + 1\n",
    "        if val >= boundaries[-1]:\n",
    "            out[i] = len(boundaries)\n",
    "    return torch.tensor(out)\n",
    "\n",
    "v = torch.tensor([5, 5, 5, 5]) \n",
    "boundaries = torch.tensor([ 5,  5,  7,  9, 12])\n",
    "\n",
    "print(bucketize(v, boundaries))"
   ]
  },
  {
   "cell_type": "code",
   "execution_count": null,
   "id": "53a8650a-683f-45e2-ac63-0113d4187d0e",
   "metadata": {},
   "outputs": [],
   "source": []
  }
 ],
 "metadata": {
  "kernelspec": {
   "display_name": "pt_hello_world",
   "language": "python",
   "name": "pt_hello_world"
  },
  "language_info": {
   "codemirror_mode": {
    "name": "ipython",
    "version": 3
   },
   "file_extension": ".py",
   "mimetype": "text/x-python",
   "name": "python",
   "nbconvert_exporter": "python",
   "pygments_lexer": "ipython3",
   "version": "3.9.0"
  }
 },
 "nbformat": 4,
 "nbformat_minor": 5
}
